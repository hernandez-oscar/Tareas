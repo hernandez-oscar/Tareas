{
  "nbformat": 4,
  "nbformat_minor": 0,
  "metadata": {
    "colab": {
      "name": "Tarea5.ipynb",
      "provenance": [],
      "authorship_tag": "ABX9TyP5WwCe0UUJLA59uJ+uVs/x",
      "include_colab_link": true
    },
    "kernelspec": {
      "name": "python3",
      "display_name": "Python 3"
    }
  },
  "cells": [
    {
      "cell_type": "markdown",
      "metadata": {
        "id": "view-in-github",
        "colab_type": "text"
      },
      "source": [
        "<a href=\"https://colab.research.google.com/github/hernandez-oscar/Tareas/blob/master/Tarea5.ipynb\" target=\"_parent\"><img src=\"https://colab.research.google.com/assets/colab-badge.svg\" alt=\"Open In Colab\"/></a>"
      ]
    },
    {
      "cell_type": "code",
      "metadata": {
        "id": "byuXGTI3S5Ta"
      },
      "source": [
        "class Nodo:  \n",
        "  def __init__(self, value, previo = None, siguiente = None):\n",
        "    self.data = value\n",
        "    self.prev = previo\n",
        "    self.next = siguiente\n",
        "\n",
        "class DoubleLinkedList:\n",
        "  def __init__( self ):\n",
        "    self.__head = None\n",
        "    self.__tail = None\n",
        "    self.__size = 0\n",
        "  \n",
        "  def get_size (self ):\n",
        "    return self.__size\n",
        "\n",
        "  def is_empty( self ):\n",
        "    return self.__size == 0\n",
        "\n",
        "  def append ( self, value ):\n",
        "    if self.is_empty():\n",
        "      nuevo = NodoDoble( value, None, None)\n",
        "      self.__head = nuevo\n",
        "      self.__tail = nuevo\n",
        "    else:\n",
        "      nuevo = NodoDoble( value, self.__tail, None)\n",
        "      self.__tail.next = nuevo\n",
        "      self.__tail = nuevo\n",
        "    self.__size += 1\n",
        "\n",
        "  def find_from_tail( self, value ):\n",
        "    posicion = self.get_size()\n",
        "    posicion = posicion - 1\n",
        "    if self.is_empty():\n",
        "     pass\n",
        "    else:\n",
        "      curr_node = self.__tail\n",
        "      while curr_node.data != value and curr_node != None:\n",
        "        curr_node = curr_node.prev\n",
        "        posicion = posicion - 1\n",
        "\n",
        "      if curr_node.data == value:\n",
        "        print(f\"Está en la posición: { posicion }\")\n",
        "\n",
        "  def find_from_head( self, value ):\n",
        "    posicion = 0\n",
        "    if self.is_empty():\n",
        "     pass\n",
        "    else:\n",
        "      curr_node = self.__head\n",
        "      while curr_node.data != value and curr_node != None:\n",
        "        curr_node = curr_node.next\n",
        "        posicion = posicion + 1\n",
        "\n",
        "      if curr_node.data == value:\n",
        "        print(f\"Está en la posición: { posicion }\")\n",
        "\n",
        "\n",
        "  def transversal( self ):\n",
        "    curr_node = self.__head\n",
        "    while curr_node != None:\n",
        "      print(\"<---\", curr_node.data , \"---->\", end = \"\")\n",
        "      curr_node = curr_node.next\n",
        "    print(\" \") \n",
        "\n",
        "  def reverse_transversal( self ):\n",
        "    curr_node = self.__tail\n",
        "    while curr_node != None:\n",
        "      print(\"<---\", curr_node.data , \"---->\", end = \"\")\n",
        "      curr_node = curr_node.prev\n",
        "    print(\" \") \n",
        "\n",
        "\n",
        "  def remove_from_head(self, value):\n",
        "    if self.is_empty():\n",
        "     pass\n",
        "    else:\n",
        "      curr_node= self.__head\n",
        "      while curr_node.data != value and curr_node != None:\n",
        "        curr_node = curr_node.next\n",
        "      if curr_node.data == value:\n",
        "        curr_node.prev.next = curr_node.next\n",
        "        curr_node.next.prev = curr_node.prev\n",
        "    self.__size -= 1\n",
        "\n",
        "  def remove_from_tail(self, value):\n",
        "    if self.is_empty():\n",
        "     pass\n",
        "    else:\n",
        "      curr_node= self.__tail\n",
        "      while curr_node.data != value and curr_node != None:\n",
        "        curr_node = curr_node.prev\n",
        "      if curr_node.data == value:\n",
        "        curr_node.next.prev = curr_node.prev\n",
        "        curr_node.prev.next = curr_node.next\n",
        "    self.__size -= 1"
      ],
      "execution_count": 2,
      "outputs": []
    },
    {
      "cell_type": "code",
      "metadata": {
        "colab": {
          "base_uri": "https://localhost:8080/",
          "height": 367
        },
        "id": "8aLsW0yQTnj4",
        "outputId": "3fd9494a-5ec0-41f0-f189-f145d818b8a2"
      },
      "source": [
        "ldl = DoubleLinkedList()\n",
        "print(ldl.get_size())\n",
        "ldl.append(10)\n",
        "print(ldl.get_size())\n",
        "ldl.append(20)\n",
        "ldl.append(30)\n",
        "ldl.append(40)\n",
        "ldl.append(50)\n",
        "ldl.transversal()\n",
        "ldl.remove_from_head( 20 )\n",
        "ldl.transversal()\n",
        "print(\"empezamos desde tail: \")\n",
        "ldl.reverse_transversal()\n",
        "print(\"se va a eliminar un valor (en este caso es 40)\")\n",
        "ldl.remove_from_tail( 40 )\n",
        "ldl.reverse_transversal()\n",
        "print(\"buscamos la pocicion de el valor 30 (usando como pibote a tail)\")\n",
        "ldl.find_from_tail( 30 )\n",
        "print(\"buscamos la posicion de el valor 50 (usando como pibote a head)\")\n",
        "ldl.find_from_head( 50 )\n",
        "print(\"comprobamos\")\n",
        "ldl.transversal()"
      ],
      "execution_count": 3,
      "outputs": [
        {
          "output_type": "stream",
          "text": [
            "0\n"
          ],
          "name": "stdout"
        },
        {
          "output_type": "error",
          "ename": "NameError",
          "evalue": "ignored",
          "traceback": [
            "\u001b[0;31m---------------------------------------------------------------------------\u001b[0m",
            "\u001b[0;31mNameError\u001b[0m                                 Traceback (most recent call last)",
            "\u001b[0;32m<ipython-input-3-436535687b79>\u001b[0m in \u001b[0;36m<module>\u001b[0;34m()\u001b[0m\n\u001b[1;32m      1\u001b[0m \u001b[0mldl\u001b[0m \u001b[0;34m=\u001b[0m \u001b[0mDoubleLinkedList\u001b[0m\u001b[0;34m(\u001b[0m\u001b[0;34m)\u001b[0m\u001b[0;34m\u001b[0m\u001b[0;34m\u001b[0m\u001b[0m\n\u001b[1;32m      2\u001b[0m \u001b[0mprint\u001b[0m\u001b[0;34m(\u001b[0m\u001b[0mldl\u001b[0m\u001b[0;34m.\u001b[0m\u001b[0mget_size\u001b[0m\u001b[0;34m(\u001b[0m\u001b[0;34m)\u001b[0m\u001b[0;34m)\u001b[0m\u001b[0;34m\u001b[0m\u001b[0;34m\u001b[0m\u001b[0m\n\u001b[0;32m----> 3\u001b[0;31m \u001b[0mldl\u001b[0m\u001b[0;34m.\u001b[0m\u001b[0mappend\u001b[0m\u001b[0;34m(\u001b[0m\u001b[0;36m10\u001b[0m\u001b[0;34m)\u001b[0m\u001b[0;34m\u001b[0m\u001b[0;34m\u001b[0m\u001b[0m\n\u001b[0m\u001b[1;32m      4\u001b[0m \u001b[0mprint\u001b[0m\u001b[0;34m(\u001b[0m\u001b[0mldl\u001b[0m\u001b[0;34m.\u001b[0m\u001b[0mget_size\u001b[0m\u001b[0;34m(\u001b[0m\u001b[0;34m)\u001b[0m\u001b[0;34m)\u001b[0m\u001b[0;34m\u001b[0m\u001b[0;34m\u001b[0m\u001b[0m\n\u001b[1;32m      5\u001b[0m \u001b[0mldl\u001b[0m\u001b[0;34m.\u001b[0m\u001b[0mappend\u001b[0m\u001b[0;34m(\u001b[0m\u001b[0;36m20\u001b[0m\u001b[0;34m)\u001b[0m\u001b[0;34m\u001b[0m\u001b[0;34m\u001b[0m\u001b[0m\n",
            "\u001b[0;32m<ipython-input-2-2a493a2eead7>\u001b[0m in \u001b[0;36mappend\u001b[0;34m(self, value)\u001b[0m\n\u001b[1;32m     19\u001b[0m   \u001b[0;32mdef\u001b[0m \u001b[0mappend\u001b[0m \u001b[0;34m(\u001b[0m \u001b[0mself\u001b[0m\u001b[0;34m,\u001b[0m \u001b[0mvalue\u001b[0m \u001b[0;34m)\u001b[0m\u001b[0;34m:\u001b[0m\u001b[0;34m\u001b[0m\u001b[0;34m\u001b[0m\u001b[0m\n\u001b[1;32m     20\u001b[0m     \u001b[0;32mif\u001b[0m \u001b[0mself\u001b[0m\u001b[0;34m.\u001b[0m\u001b[0mis_empty\u001b[0m\u001b[0;34m(\u001b[0m\u001b[0;34m)\u001b[0m\u001b[0;34m:\u001b[0m\u001b[0;34m\u001b[0m\u001b[0;34m\u001b[0m\u001b[0m\n\u001b[0;32m---> 21\u001b[0;31m       \u001b[0mnuevo\u001b[0m \u001b[0;34m=\u001b[0m \u001b[0mNodoDoble\u001b[0m\u001b[0;34m(\u001b[0m \u001b[0mvalue\u001b[0m\u001b[0;34m,\u001b[0m \u001b[0;32mNone\u001b[0m\u001b[0;34m,\u001b[0m \u001b[0;32mNone\u001b[0m\u001b[0;34m)\u001b[0m\u001b[0;34m\u001b[0m\u001b[0;34m\u001b[0m\u001b[0m\n\u001b[0m\u001b[1;32m     22\u001b[0m       \u001b[0mself\u001b[0m\u001b[0;34m.\u001b[0m\u001b[0m__head\u001b[0m \u001b[0;34m=\u001b[0m \u001b[0mnuevo\u001b[0m\u001b[0;34m\u001b[0m\u001b[0;34m\u001b[0m\u001b[0m\n\u001b[1;32m     23\u001b[0m       \u001b[0mself\u001b[0m\u001b[0;34m.\u001b[0m\u001b[0m__tail\u001b[0m \u001b[0;34m=\u001b[0m \u001b[0mnuevo\u001b[0m\u001b[0;34m\u001b[0m\u001b[0;34m\u001b[0m\u001b[0m\n",
            "\u001b[0;31mNameError\u001b[0m: name 'NodoDoble' is not defined"
          ]
        }
      ]
    }
  ]
}